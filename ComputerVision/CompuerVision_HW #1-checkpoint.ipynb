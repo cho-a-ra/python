{
 "cells": [
  {
   "cell_type": "code",
   "execution_count": 1,
   "metadata": {},
   "outputs": [],
   "source": [
    "import numpy as np\n",
    "import cv2"
   ]
  },
  {
   "cell_type": "code",
   "execution_count": 2,
   "metadata": {},
   "outputs": [],
   "source": [
    "#  image read\n",
    "src = cv2.imread('bridge.jpg')"
   ]
  },
  {
   "cell_type": "code",
   "execution_count": 3,
   "metadata": {},
   "outputs": [],
   "source": [
    "# image size\n",
    "rows,cols = src.shape[0:2]"
   ]
  },
  {
   "cell_type": "code",
   "execution_count": 4,
   "metadata": {},
   "outputs": [],
   "source": [
    "# 1-1\n",
    "# 특정 위치로 이동 \n",
    "def translate(src, rows, cols):\n",
    "    # Write your code\n",
    "    translation_matrix = np.array([[1,0,200],[0,1,100]], dtype=np.float32)\n",
    "#    print(rows,cols)\n",
    "    transformed_image = cv2.warpAffine(src,translation_matrix,(cols,rows),cv2.INTER_LINEAR)\n",
    "# 열,행 순서로\n",
    "# 열(열이 있는 방향은 가로)\n",
    "# 행(행이 있는 방향은 세로)\n",
    "# warpAffine : 영상에 적용하기 위한 함수(이동 matrix를)\n",
    "    return transformed_image\n",
    "    #return translation_matrix\n",
    "# 이미지 회전 \n",
    "def rotate(src,rows, cols, angle):\n",
    "    # Write your code\n",
    "    # 각도 Radian 으로 변환 * 시계 반대방향으로 이동 \n",
    "    radi_angle = angle * np.pi / 180   \n",
    "    \n",
    "    transform_matrix = np.array([[ np.cos(radi_angle), -1* np.sin(radi_angle), 0],[np.sin(radi_angle), np.cos(radi_angle), 0]], dtype=np.float32)\n",
    "\n",
    "    transformed_image = cv2.warpAffine(src,transform_matrix,(cols,rows)) # 원본이미지, 행렬, 출력이미지크기 \n",
    "    return transformed_image    \n",
    "# 이미지 동질 변환 \n",
    "def similarity(src, rows, cols , angle, scale):\n",
    "    # Write your code\n",
    "    radi_angle = angle * np.pi / 180   \n",
    "    # 확대 축소 비율을 곱해 준다 \n",
    "    transform_matrix = np.array([[ scale*(np.cos(radi_angle)), scale*(-1* np.sin(radi_angle)), 200],\n",
    "                                 [scale*(np.sin(radi_angle)), scale*(np.cos(radi_angle)), 100]], dtype=np.float32)\n",
    "\n",
    "    transformed_image = cv2.warpAffine(src,transform_matrix,(cols,rows)) # 원본이미지, 행렬, 출력이미지크기 \n",
    "\n",
    "    return transformed_image"
   ]
  },
  {
   "cell_type": "code",
   "execution_count": 5,
   "metadata": {},
   "outputs": [],
   "source": [
    "# 이미지 이동 \n",
    "cv2.imshow(\"Translation\",translate(src,rows,cols))\n",
    "cv2.waitKey(0)\n",
    "cv2.destroyAllWindows()"
   ]
  },
  {
   "cell_type": "code",
   "execution_count": 6,
   "metadata": {},
   "outputs": [],
   "source": [
    "# 이미지 회전\n",
    "cv2.imshow(\"Rotation\",rotate(src,rows,cols,15))\n",
    "cv2.waitKey(0)\n",
    "cv2.destroyAllWindows()"
   ]
  },
  {
   "cell_type": "code",
   "execution_count": 7,
   "metadata": {},
   "outputs": [],
   "source": [
    "# 이미지 동질 변환\n",
    "cv2.imshow(\"Similarity\",similarity(src,rows,cols,10,0.5))\n",
    "cv2.waitKey(0)\n",
    "cv2.destroyAllWindows()"
   ]
  },
  {
   "cell_type": "code",
   "execution_count": 8,
   "metadata": {},
   "outputs": [],
   "source": [
    "#cv2.GaussianBlur(src, ksize, sigmaX, dst=None, sigmaY=None, borderType=None) -> dst\n",
    "\n",
    "# src: 입력 영상. 각 채널 별로 처리됨.\n",
    "# dst: 출력 영상. src와 같은 크기, 같은 타입.\n",
    "#• ksize: 가우시안 커널 크기. (0, 0)을 지정하면 sigma 값에 의해 자동 결정됨\n",
    "#• sigmaX: x방향 sigma.\n",
    "#• sigmaY: y방향 sigma. 0이면 sigmaX와 같게 설정.\n",
    "#• borderType: 가장자리 픽셀 확장 방식."
   ]
  },
  {
   "cell_type": "code",
   "execution_count": 9,
   "metadata": {},
   "outputs": [],
   "source": [
    "# 2-1\n",
    "# Gaussian filter 적용 \n",
    "# sigma 입력 받아서 처리 \n",
    "def Gaussian_blur(src,sigma):\n",
    "    # Write your code\n",
    "    # Set any parameters for the kernel\n",
    "\n",
    "    result = cv2.GaussianBlur(src,(0,0),sigma) # 필터 (0,0)일 경우 적당한 크기의 필터로 setting  된다 \n",
    "\n",
    "    return result"
   ]
  },
  {
   "cell_type": "code",
   "execution_count": 10,
   "metadata": {},
   "outputs": [],
   "source": [
    "# sigma 값이 커짐 / 필터의 크기가 커짐에 따라 흐려짐 \n",
    "cv2.imshow(\"Gaussian_blur\",Gaussian_blur(src,5))\n",
    "cv2.waitKey(0)\n",
    "cv2.destroyAllWindows()"
   ]
  },
  {
   "cell_type": "code",
   "execution_count": 11,
   "metadata": {},
   "outputs": [],
   "source": [
    "#cv2.Sobel(src, ddepth, dx, dy, dst=None, ksize=None, scale=None, delta=None, borderType=None) -> dst\n",
    "\n",
    "#• src: 입력 영상\n",
    "#• ddepth: 출력 영상 데이터 타입. -1이면 입력 영상과 같은 데이터 타입을 사용.\n",
    "#• dx: x 방향 미분 차수. 1차미분할지 2차미분 할지 결정\n",
    "#• dy: y 방향 미분 차수.\n",
    "#• dst: 출력 영상(행렬)\n",
    "#• ksize: 커널 크기. 기본값은 3.\n",
    "#• scale 연산 결과에 추가적으로 곱할 값. 기본값은 1.\n",
    "#• delta: 연산 결과에 추가적으로 더할 값. 기본값은 0.\n",
    "#• borderType: 가장자리 픽셀 확장 방식. 기본값은 cv2.BORDER_DEFAULT."
   ]
  },
  {
   "cell_type": "code",
   "execution_count": 12,
   "metadata": {},
   "outputs": [],
   "source": [
    "#dst = cv2.laplacian(src, ddepth, ksize, scale, delta, borderType)은 입력 이미지(src)에 출력 이미지 정밀도(ddepth)를 \n",
    "#설정하고 커널 크기(ksize), 비율(scale), 오프셋(delta), 테두리 외삽법(borderType)을 설정하여 결과 이미지(dst)를 반환합니다.\n",
    "##출력 이미지 정밀도는 반환되는 결과 이미지의 정밀도를 설정합니다.\n",
    "#커널 크기는 라플라시안 필터의 크기를 설정합니다. 커널의 값이 1일 경우, 중심값이 -4인 3 x 3 Aperture Size를 사용합니다.\n",
    "#비율과 오프셋은 출력 이미지를 반환하기 전에 적용되며, 주로 시각적으로 확인하기 위해 사용합니다.\n",
    "#픽셀 외삽법은 이미지 가장자리 부분의 처리 방식을 설정합니다."
   ]
  },
  {
   "cell_type": "code",
   "execution_count": 13,
   "metadata": {},
   "outputs": [],
   "source": [
    "# 2-2\n",
    "# sobel filter /  Laplacian Filter \n",
    "def Sobel(src):\n",
    "    # Write your code\n",
    "    # Set any parameters for the kernel\n",
    "    \n",
    "    result = cv2.Sobel(src, -1,1,1)\n",
    "\n",
    "    return result\n",
    "\n",
    "def Laplacian(src):\n",
    "    # Write your code\n",
    "    # Set any parameters for the kernel\n",
    "    \n",
    "    result = cv2.Laplacian(src,cv2.CV_8U, ksize=3)\n",
    "    \n",
    "    return result"
   ]
  },
  {
   "cell_type": "code",
   "execution_count": 14,
   "metadata": {},
   "outputs": [],
   "source": [
    "# sobel filter\n",
    "cv2.imshow(\"Sobel\",Sobel(src))\n",
    "cv2.waitKey(0)\n",
    "cv2.destroyAllWindows()"
   ]
  },
  {
   "cell_type": "code",
   "execution_count": 15,
   "metadata": {},
   "outputs": [],
   "source": [
    "# Laplacian filter\n",
    "# cv2.CV_8U 이 옵션을 준 이유 ??\n",
    "cv2.imshow(\"Laplacian\",Laplacian(src))\n",
    "cv2.waitKey(0)\n",
    "cv2.destroyAllWindows()"
   ]
  },
  {
   "cell_type": "code",
   "execution_count": 16,
   "metadata": {},
   "outputs": [],
   "source": [
    "# 2-3\n",
    "# 이미지에 salt and pepper noise 추가 3개 필터 적용 noise 감소/증가 분석 \n",
    "def add_salt_pepper_noise(src, prob):\n",
    "    # Write your code\n",
    "    # You can use prob argument as the probability of noise at each pixel\n",
    "   # noise = ...\n",
    "    rows,cols,ch = src.shape\n",
    "    s_vs_p = prob\n",
    "    amount = 0.01\n",
    "    result = np.copy(src)\n",
    "    # Salt mode\n",
    "    num_salt = np.ceil(amount * src.size * s_vs_p)\n",
    "    coords = [np.random.randint(0, i - 1, int(num_salt))\n",
    "            for i in src.shape]\n",
    "    result[coords] = 1\n",
    "\n",
    "    # Pepper mode\n",
    "    num_pepper = np.ceil(amount* src.size * (1. - s_vs_p))\n",
    "    coords = [np.random.randint(0, i - 1, int(num_pepper))\n",
    "            for i in src.shape]\n",
    "    result[coords] = 0\n",
    "    #result = ...\n",
    "\n",
    "    return result\n",
    "\n",
    "# Write your code\n",
    "# GaussianBlur, Sobel, and Laplacian to the result image with noise\n",
    "#..."
   ]
  },
  {
   "cell_type": "code",
   "execution_count": 17,
   "metadata": {},
   "outputs": [
    {
     "name": "stderr",
     "output_type": "stream",
     "text": [
      "<ipython-input-16-dff8e0ca404d>:15: FutureWarning: Using a non-tuple sequence for multidimensional indexing is deprecated; use `arr[tuple(seq)]` instead of `arr[seq]`. In the future this will be interpreted as an array index, `arr[np.array(seq)]`, which will result either in an error or a different result.\n",
      "  result[coords] = 1\n",
      "<ipython-input-16-dff8e0ca404d>:21: FutureWarning: Using a non-tuple sequence for multidimensional indexing is deprecated; use `arr[tuple(seq)]` instead of `arr[seq]`. In the future this will be interpreted as an array index, `arr[np.array(seq)]`, which will result either in an error or a different result.\n",
      "  result[coords] = 0\n"
     ]
    }
   ],
   "source": [
    "cv2.imshow(\"add_salt_pepper_noise\",add_salt_pepper_noise(src,0.5))\n",
    "cv2.imwrite('add_salt_pepper_noise.jpg', add_salt_pepper_noise(src,0.5))\n",
    "cv2.waitKey(0)\n",
    "cv2.destroyAllWindows()"
   ]
  },
  {
   "cell_type": "code",
   "execution_count": 18,
   "metadata": {},
   "outputs": [
    {
     "name": "stderr",
     "output_type": "stream",
     "text": [
      "<ipython-input-16-dff8e0ca404d>:15: FutureWarning: Using a non-tuple sequence for multidimensional indexing is deprecated; use `arr[tuple(seq)]` instead of `arr[seq]`. In the future this will be interpreted as an array index, `arr[np.array(seq)]`, which will result either in an error or a different result.\n",
      "  result[coords] = 1\n",
      "<ipython-input-16-dff8e0ca404d>:21: FutureWarning: Using a non-tuple sequence for multidimensional indexing is deprecated; use `arr[tuple(seq)]` instead of `arr[seq]`. In the future this will be interpreted as an array index, `arr[np.array(seq)]`, which will result either in an error or a different result.\n",
      "  result[coords] = 0\n"
     ]
    }
   ],
   "source": [
    "cv2.imshow(\"Gaussian_blur\",Gaussian_blur(add_salt_pepper_noise(src,0.5),2))\n",
    "cv2.waitKey(0)\n",
    "#cv2.imwrite('Gaussian_blur.jpg', Gaussian_blur(add_salt_pepper_noise(src,0.5),2))\n",
    "cv2.destroyAllWindows()"
   ]
  },
  {
   "cell_type": "code",
   "execution_count": 19,
   "metadata": {},
   "outputs": [
    {
     "name": "stderr",
     "output_type": "stream",
     "text": [
      "<ipython-input-16-dff8e0ca404d>:15: FutureWarning: Using a non-tuple sequence for multidimensional indexing is deprecated; use `arr[tuple(seq)]` instead of `arr[seq]`. In the future this will be interpreted as an array index, `arr[np.array(seq)]`, which will result either in an error or a different result.\n",
      "  result[coords] = 1\n",
      "<ipython-input-16-dff8e0ca404d>:21: FutureWarning: Using a non-tuple sequence for multidimensional indexing is deprecated; use `arr[tuple(seq)]` instead of `arr[seq]`. In the future this will be interpreted as an array index, `arr[np.array(seq)]`, which will result either in an error or a different result.\n",
      "  result[coords] = 0\n"
     ]
    }
   ],
   "source": [
    "# sobel filter\n",
    "cv2.imshow(\"Sobel\",Sobel(add_salt_pepper_noise(src,0.5)))\n",
    "#cv2.imwrite('Sobel.jpg',Sobel(add_salt_pepper_noise(src,0.5)))\n",
    "cv2.waitKey(0)\n",
    "cv2.destroyAllWindows()"
   ]
  },
  {
   "cell_type": "code",
   "execution_count": 20,
   "metadata": {},
   "outputs": [
    {
     "name": "stderr",
     "output_type": "stream",
     "text": [
      "<ipython-input-16-dff8e0ca404d>:15: FutureWarning: Using a non-tuple sequence for multidimensional indexing is deprecated; use `arr[tuple(seq)]` instead of `arr[seq]`. In the future this will be interpreted as an array index, `arr[np.array(seq)]`, which will result either in an error or a different result.\n",
      "  result[coords] = 1\n",
      "<ipython-input-16-dff8e0ca404d>:21: FutureWarning: Using a non-tuple sequence for multidimensional indexing is deprecated; use `arr[tuple(seq)]` instead of `arr[seq]`. In the future this will be interpreted as an array index, `arr[np.array(seq)]`, which will result either in an error or a different result.\n",
      "  result[coords] = 0\n"
     ]
    }
   ],
   "source": [
    "# Laplacian filter\n",
    "cv2.imshow(\"Laplacian\",Laplacian(add_salt_pepper_noise(src,0.5)))\n",
    "#cv2.imwrite('Laplacian.jpg',Laplacian(add_salt_pepper_noise(src,0.5)))\n",
    "cv2.waitKey(0)\n",
    "cv2.destroyAllWindows()"
   ]
  },
  {
   "cell_type": "code",
   "execution_count": 21,
   "metadata": {},
   "outputs": [],
   "source": [
    "# 결론 \n",
    "# noise를 추가하였을 경우 Gaussian_blur < sobel filter < Laplacian filter 순으로 노이즈가 증가 하였다.\n",
    "# Gaussian_blur 의 경우 거의 티가 나지 않는다. "
   ]
  },
  {
   "cell_type": "code",
   "execution_count": 22,
   "metadata": {},
   "outputs": [],
   "source": [
    "# 2-4\n",
    "# noise  추가된 이미지에  Median Filter 적용 \n",
    "\n",
    "def median_blur(src,size):\n",
    "    # Write your code\n",
    "    # You can use cv2.medianBlur\n",
    "    # Choose various sizes of the filter\n",
    "    filter = cv2.medianBlur(src,size)\n",
    "\n",
    "    result = filter\n",
    "\n",
    "    return result"
   ]
  },
  {
   "cell_type": "code",
   "execution_count": 23,
   "metadata": {},
   "outputs": [],
   "source": [
    "# 원본 이미지 \n",
    "cv2.imshow(\"median_blur\",median_blur(src,5))\n",
    "cv2.waitKey(0)\n",
    "cv2.destroyAllWindows()"
   ]
  },
  {
   "cell_type": "code",
   "execution_count": 24,
   "metadata": {},
   "outputs": [
    {
     "name": "stderr",
     "output_type": "stream",
     "text": [
      "<ipython-input-16-dff8e0ca404d>:15: FutureWarning: Using a non-tuple sequence for multidimensional indexing is deprecated; use `arr[tuple(seq)]` instead of `arr[seq]`. In the future this will be interpreted as an array index, `arr[np.array(seq)]`, which will result either in an error or a different result.\n",
      "  result[coords] = 1\n",
      "<ipython-input-16-dff8e0ca404d>:21: FutureWarning: Using a non-tuple sequence for multidimensional indexing is deprecated; use `arr[tuple(seq)]` instead of `arr[seq]`. In the future this will be interpreted as an array index, `arr[np.array(seq)]`, which will result either in an error or a different result.\n",
      "  result[coords] = 0\n"
     ]
    }
   ],
   "source": [
    "# noise 추가 image  \n",
    "cv2.imshow(\"median_blur\",median_blur(add_salt_pepper_noise(src,0.5),3))\n",
    "cv2.imwrite('median_blur_salt.jpg',median_blur(add_salt_pepper_noise(src,0.5),3))\n",
    "cv2.waitKey(0)\n",
    "cv2.destroyAllWindows()"
   ]
  },
  {
   "cell_type": "code",
   "execution_count": 25,
   "metadata": {},
   "outputs": [],
   "source": [
    "# 결론 \n",
    "# noise를 추가하였을 경우 Median filter < Gaussian filter < Laplacian filter < sobel filter순으로 노이즈가 증가 하였다.\n",
    "# Gaussian_blur 의 경우 거의 티가 나지 않는다. "
   ]
  },
  {
   "cell_type": "code",
   "execution_count": 26,
   "metadata": {},
   "outputs": [],
   "source": [
    "src = cv2.imread('flower1.jpg')"
   ]
  },
  {
   "cell_type": "code",
   "execution_count": 27,
   "metadata": {},
   "outputs": [],
   "source": [
    "#3 Image Pyramids\n",
    "# 3-1\n",
    "# cv2.resize up-dampling / down-sapling \n",
    "# Use cv2.resize() and its argument \"interpolation=...\"\n",
    "# Try different options of interpolation\n",
    "\n",
    "# Write your code\n",
    "# To down-sample an image, you should set the size smaller than the image\n",
    "down_result_01 = cv2.resize(src, dsize=(0, 0), fx=0.3, fy=0.3, interpolation=cv2.INTER_CUBIC)# cubic \n",
    "down_result_02 = cv2.resize(src, dsize=(0, 0), fx=0.3, fy=0.3, interpolation=cv2.INTER_LINEAR)# 선형\n",
    "down_result_03 = cv2.resize(src, dsize=(0, 0), fx=0.3, fy=0.3, interpolation=cv2.INTER_AREA)# 영역 보간법 \n",
    "down_result_04 = cv2.resize(src, dsize=(0, 0), fx=0.3, fy=0.3, interpolation=cv2.INTER_NEAREST)# 영역 보간법 \n",
    "\n",
    "# Write your code\n",
    "# To up-sample an image, you should set the size lager than the image\n",
    "up_result_01 = cv2.resize(src, dsize=(0, 0), fx=10.0, fy=10.0, interpolation=cv2.INTER_CUBIC)\n",
    "up_result_02 = cv2.resize(src, dsize=(0, 0), fx=10.0, fy=10.0, interpolation=cv2.INTER_LINEAR)\n",
    "up_result_03 = cv2.resize(src, dsize=(0, 0), fx=10.0, fy=10.0, interpolation=cv2.INTER_AREA)\n",
    "up_result_04 = cv2.resize(src, dsize=(0, 0), fx=10.0, fy=10.0, interpolation=cv2.INTER_NEAREST)"
   ]
  },
  {
   "cell_type": "code",
   "execution_count": 28,
   "metadata": {},
   "outputs": [],
   "source": [
    "#dst = cv2.resize(src, dstSize, fx, fy, interpolation)는 #\n",
    "#입력 이미지(src), 절대 크기(dstSize), 상대 크기(fx, fy), 보간법(interpolation)으로 출력 이미지(dst)을 생성합니다.\n",
    "#절대 크기는 튜플(Tuple) 형식으로 (너비, 높이)의 값을 할당해 사용합니다."
   ]
  },
  {
   "cell_type": "code",
   "execution_count": 29,
   "metadata": {},
   "outputs": [],
   "source": [
    "cv2.imshow(\"src\", src)\n",
    "#cv2.imwrite('src.jpg', src)\n",
    "cv2.imshow(\"down_01\", down_result_01)\n",
    "cv2.imshow(\"down_02\", down_result_02)\n",
    "cv2.imshow(\"down_03\", down_result_03)\n",
    "cv2.imshow(\"down_04\", down_result_04)\n",
    "cv2.imwrite('down_01.jpg', down_result_01)\n",
    "cv2.imwrite('down_02.jpg', down_result_02)\n",
    "cv2.imwrite('down_03.jpg', down_result_03)\n",
    "cv2.imwrite('down_04.jpg', down_result_04)\n",
    "cv2.waitKey()\n",
    "cv2.destroyAllWindows()"
   ]
  },
  {
   "cell_type": "code",
   "execution_count": 30,
   "metadata": {},
   "outputs": [],
   "source": [
    "cv2.imshow(\"src\", src)\n",
    "cv2.imshow(\"up_01\", up_result_01)\n",
    "cv2.imshow(\"up_02\", up_result_02)\n",
    "cv2.imshow(\"up_03\", up_result_03)\n",
    "cv2.imshow(\"up_04\", up_result_04)\n",
    "cv2.imwrite('up_01.jpg', up_result_01)\n",
    "cv2.imwrite('up_02.jpg', up_result_02)\n",
    "cv2.imwrite('up_03.jpg', up_result_03)\n",
    "cv2.imwrite('up_04.jpg', up_result_04)\n",
    "cv2.waitKey()\n",
    "cv2.destroyAllWindows()"
   ]
  },
  {
   "cell_type": "code",
   "execution_count": 31,
   "metadata": {},
   "outputs": [],
   "source": [
    "# 3-2\n",
    "# pyrDown을 이용하여 Gaussian Pyramid  구성 \n",
    "# 이미지들의 퀄리티와 용량을 비교 \n",
    "# Write your code\n",
    "# Set the number of levels of pyramid as many as you want\n",
    "Gaussian_01 = cv2.pyrDown(src)\n",
    "Gaussian_02 = cv2.pyrDown(Gaussian_01) # You should use Gaussian_01 as the input\n",
    "Gaussian_03 = cv2.pyrDown(Gaussian_02)\n",
    "Gaussian_04 = cv2.pyrDown(Gaussian_03)\n",
    "#... # You can repeat"
   ]
  },
  {
   "cell_type": "code",
   "execution_count": 32,
   "metadata": {},
   "outputs": [
    {
     "data": {
      "text/plain": [
       "True"
      ]
     },
     "execution_count": 32,
     "metadata": {},
     "output_type": "execute_result"
    }
   ],
   "source": [
    "cv2.imwrite('img1.jpg', Gaussian_01)\n",
    "cv2.imwrite('img2.jpg', Gaussian_02)\n",
    "cv2.imwrite('img3.jpg', Gaussian_03)\n",
    "cv2.imwrite('img4.jpg', Gaussian_04)"
   ]
  },
  {
   "cell_type": "code",
   "execution_count": 33,
   "metadata": {},
   "outputs": [],
   "source": [
    "# Median filtering은 filter 가 이미지를 지나가면서  중간값을 새로운 픽셀 값으로 \n",
    "#  return한 수정된 이미지를 갖는다 "
   ]
  },
  {
   "cell_type": "code",
   "execution_count": 34,
   "metadata": {},
   "outputs": [],
   "source": [
    "#  image read\n",
    "src = cv2.imread('bridge.jpg')"
   ]
  },
  {
   "cell_type": "code",
   "execution_count": 35,
   "metadata": {},
   "outputs": [],
   "source": [
    "from cv2 import COLOR_BGR2GRAY, cvtColor, imread, imshow, waitKey\n",
    "from numpy import divide, int8, multiply, ravel, sort, zeros_like"
   ]
  },
  {
   "cell_type": "code",
   "execution_count": 36,
   "metadata": {},
   "outputs": [],
   "source": [
    "def my_median_blur(gray_src, kernel_size):\n",
    "\n",
    "    # set image borders\n",
    "    bd = int(kernel_size / 2) # 커널 사이즈 3을 줄경우 1 \n",
    "    # copy image size\n",
    "    median_img = zeros_like(gray_src) #  input 그림의 크기 만큼 0으로 채워진 median_img생성 \n",
    "    for i in range(bd, gray_src.shape[0] - bd): # 0번쨰 row \n",
    "        for j in range(bd, gray_src.shape[1] - bd): # 1번쨰 column\n",
    "            # get mask according with mask\n",
    "            # ravel [[1,2],[3,4]] -> [1,2,3,4]\n",
    "            # i = 1이고  bd가 1일 경우 0~2까지 / 0~2까지  row와 컬럼 3*3 ) 9를 가져옴 \n",
    "            kernel = ravel(gray_src[i - bd : i + bd + 1, j - bd : j + bd + 1])\n",
    "            # calculate mask median\n",
    "            # sort 된 값의 중앙값을 가져오기 위해 연산 3*3 일 경우 5번쨰 값을 가져온다 \n",
    "            median = sort(kernel)[int8(divide((multiply(kernel_size, kernel_size)), 2) + 1)]\n",
    "            median_img[i, j] = median\n",
    "    return median_img"
   ]
  },
  {
   "cell_type": "code",
   "execution_count": 37,
   "metadata": {},
   "outputs": [],
   "source": [
    "# 원본 이미지 \n",
    "cv2.imshow(\"my_median_blur\",my_median_blur(src,3))\n",
    "cv2.imshow(\"median_blur\",median_blur(src,3))\n",
    "cv2.imwrite('my_median_blur.jpg',my_median_blur(src,3))\n",
    "cv2.imwrite('median_blur_3.jpg',median_blur(src,3))\n",
    "cv2.waitKey(0)\n",
    "cv2.destroyAllWindows()"
   ]
  },
  {
   "cell_type": "code",
   "execution_count": null,
   "metadata": {},
   "outputs": [],
   "source": []
  },
  {
   "cell_type": "code",
   "execution_count": null,
   "metadata": {},
   "outputs": [],
   "source": []
  },
  {
   "cell_type": "code",
   "execution_count": null,
   "metadata": {},
   "outputs": [],
   "source": []
  },
  {
   "cell_type": "code",
   "execution_count": null,
   "metadata": {},
   "outputs": [],
   "source": []
  },
  {
   "cell_type": "code",
   "execution_count": null,
   "metadata": {},
   "outputs": [],
   "source": []
  },
  {
   "cell_type": "code",
   "execution_count": null,
   "metadata": {},
   "outputs": [],
   "source": []
  }
 ],
 "metadata": {
  "kernelspec": {
   "display_name": "Python 3",
   "language": "python",
   "name": "python3"
  },
  "language_info": {
   "codemirror_mode": {
    "name": "ipython",
    "version": 3
   },
   "file_extension": ".py",
   "mimetype": "text/x-python",
   "name": "python",
   "nbconvert_exporter": "python",
   "pygments_lexer": "ipython3",
   "version": "3.8.5"
  }
 },
 "nbformat": 4,
 "nbformat_minor": 4
}
