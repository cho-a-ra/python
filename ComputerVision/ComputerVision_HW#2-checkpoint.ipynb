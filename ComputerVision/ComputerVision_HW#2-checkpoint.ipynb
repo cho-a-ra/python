{
 "cells": [
  {
   "cell_type": "code",
   "execution_count": 3,
   "metadata": {},
   "outputs": [],
   "source": [
    "import numpy as np\n",
    "import cv2\n",
    "import random\n"
   ]
  },
  {
   "cell_type": "code",
   "execution_count": 4,
   "metadata": {},
   "outputs": [
    {
     "name": "stdout",
     "output_type": "stream",
     "text": [
      "opencv-python version =  3.4.14\n"
     ]
    }
   ],
   "source": [
    "print(\"opencv-python version = \", cv2.__version__)"
   ]
  },
  {
   "cell_type": "code",
   "execution_count": 6,
   "metadata": {},
   "outputs": [],
   "source": [
    "#sift = cv2.xfeatures2d.SIFT_create()"
   ]
  },
  {
   "cell_type": "code",
   "execution_count": 7,
   "metadata": {},
   "outputs": [],
   "source": [
    "# 변수 선언 \n",
    "SIFT = \"SIFT\"\n",
    "BRIEF = \"BRIEF\"\n",
    "ORB = \"ORB\"\n",
    "img1 = \"\"\n",
    "img2 = \"\""
   ]
  },
  {
   "cell_type": "code",
   "execution_count": 8,
   "metadata": {},
   "outputs": [],
   "source": [
    "#  image read\n",
    "# 주어진 이미지 2개 읽기 \n",
    "def image_choice(img_id):\n",
    "    imagename1 =\"\"\n",
    "    imagename2 =\"\"\n",
    "    print(img_id)\n",
    "    if img_id == 'anapruna':\n",
    "        imagename1 = 'paired_images/annapurna_right_01.png'\n",
    "        imagename2 = 'paired_images/annapurna_left_01.png'\n",
    "    elif img_id == \"bryce01\":\n",
    "        imagename1 = 'paired_images/bryce_right_01.png'\n",
    "        imagename2 = 'paired_images/bryce_left_01.png' \n",
    "    elif img_id == 'bryce02':\n",
    "        imagename1 = 'paired_images/bryce_right_02.png'\n",
    "        imagename2 = 'paired_images/bryce_left_02.png'  \n",
    "    elif img_id == 'bryce03':\n",
    "        imagename1 = 'paired_images/bryce_right_03.png'\n",
    "        imagename2 = 'paired_images/bryce_left_03.png'  \n",
    "    elif img_id == 'grand_canyon01':\n",
    "        imagename1 = 'paired_images/grand_canyon_right_01.png'\n",
    "        imagename2 = 'paired_images/grand_canyon_left_01.png'          \n",
    "    elif img_id == 'grand_canyon02':\n",
    "        imagename1 = 'paired_images/grand_canyon_right_02.png'\n",
    "        imagename2 = 'paired_images/grand_canyon_left_02.png'     \n",
    "    elif img_id == 'scottsdale':\n",
    "        imagename1 = 'paired_images/scottsdale_right_01.png'\n",
    "        imagename2 = 'paired_images/scottsdale_left_01.png'     \n",
    "    elif img_id == 'sedona':\n",
    "        imagename1 = 'paired_images/sedona_right_01.png'\n",
    "        imagename2 = 'paired_images/sedona_left_01.png'   \n",
    "    else:\n",
    "        print(\"image choice error\",img_id)\n",
    "   \n",
    "    img1 = cv2.imread(imagename1)\n",
    "    img2 = cv2.imread(imagename2)\n",
    "   \n",
    "   # cv2.imshow(\"img1\",img1)\n",
    "   # cv2.waitKey(0)\n",
    "   # cv2.destroyAllWindows()\n",
    "    \n",
    "    return(img1,img2)\n"
   ]
  },
  {
   "cell_type": "code",
   "execution_count": 9,
   "metadata": {},
   "outputs": [
    {
     "name": "stdout",
     "output_type": "stream",
     "text": [
      "bryce01\n"
     ]
    }
   ],
   "source": [
    "(img1,img2) = image_choice(\"bryce01\")"
   ]
  },
  {
   "cell_type": "code",
   "execution_count": 10,
   "metadata": {},
   "outputs": [],
   "source": [
    "#  keypoint추출 및 특징 추출 \n",
    "def keypoint(img, gubun):\n",
    "\n",
    "    gray = cv2.cvtColor(img, cv2.COLOR_BGR2GRAY)\n",
    "    \n",
    "    if gubun == 'SIFT':\n",
    "        sift = cv2.xfeatures2d.SIFT_create()\n",
    "        keypoints, descriptor = sift.detectAndCompute(gray, None)\n",
    "    elif gubun == 'BRIEF':    \n",
    "\n",
    "        # BRIEF 특징 추출 \n",
    "        star = cv2.xfeatures2d.StarDetector_create()\n",
    "        brief = cv2.xfeatures2d.BriefDescriptorExtractor_create()\n",
    "        kp1 = star.detect(gray,None) \n",
    "        keypoints,descriptor = brief.compute(gray,kp1)\n",
    "\n",
    "    elif gubun == 'ORB':    \n",
    "        orb = cv2.ORB_create()\n",
    "        keypoints, descriptor = orb.detectAndCompute(gray, None)\n",
    "    else :\n",
    "        print(\"gubun error\")\n",
    "    \n",
    "    print('keypoint:',len(keypoints), 'descriptor:', descriptor.shape)\n",
    "    #print(descriptor)\n",
    "    \n",
    "    res = cv2.drawKeypoints(img, keypoints, None, flags=cv2.DRAW_MATCHES_FLAGS_DRAW_RICH_KEYPOINTS)\n",
    "    \n",
    "    return res"
   ]
  },
  {
   "cell_type": "code",
   "execution_count": 8,
   "metadata": {},
   "outputs": [
    {
     "name": "stdout",
     "output_type": "stream",
     "text": [
      "anapruna\n",
      "keypoint: 1887 descriptor: (1887, 128)\n",
      "keypoint: 1887 descriptor: (1887, 128)\n",
      "keypoint: 1906 descriptor: (1906, 128)\n",
      "keypoint: 1906 descriptor: (1906, 128)\n"
     ]
    }
   ],
   "source": [
    "#keypoint(img1,SIFT)\n",
    "(img1,img2) = image_choice(\"anapruna\")\n",
    "cv2.imshow(\"img1\",img1)\n",
    "cv2.imshow(\"keypoint_SIFT_anapruna_right_01\",keypoint(img1,SIFT))\n",
    "cv2.imwrite('keypoint_SIFT_anapruna_right_01.jpg',keypoint(img1,SIFT))\n",
    "cv2.imshow(\"keypoint_SIFT_anapruna_left_01\",keypoint(img2,SIFT))\n",
    "cv2.imwrite('keypoint_SIFT_anapruna_left_01.jpg',keypoint(img2,SIFT))\n",
    "cv2.waitKey(0)\n",
    "cv2.destroyAllWindows()"
   ]
  },
  {
   "cell_type": "code",
   "execution_count": 13,
   "metadata": {},
   "outputs": [
    {
     "name": "stdout",
     "output_type": "stream",
     "text": [
      "keypoint: 304 descriptor: (304, 32)\n",
      "keypoint: 304 descriptor: (304, 32)\n",
      "keypoint: 275 descriptor: (275, 32)\n",
      "keypoint: 275 descriptor: (275, 32)\n"
     ]
    }
   ],
   "source": [
    "#keypoint(img1,BRIEF)\n",
    "cv2.imshow(\"keypoint_BRIEF_anapruna_right_01\",keypoint(img1,BRIEF))\n",
    "cv2.imwrite('keypoint_BRIEF_anapruna_right_01.jpg',keypoint(img1,BRIEF))\n",
    "cv2.imshow(\"keypoint_BRIEF_anapruna_left_01\",keypoint(img2,BRIEF))\n",
    "cv2.imwrite('keypoint_BRIEF_anapruna_left_01.jpg',keypoint(img2,BRIEF))\n",
    "cv2.waitKey(0)\n",
    "cv2.destroyAllWindows()"
   ]
  },
  {
   "cell_type": "code",
   "execution_count": 14,
   "metadata": {},
   "outputs": [
    {
     "name": "stdout",
     "output_type": "stream",
     "text": [
      "keypoint: 500 descriptor: (500, 32)\n",
      "keypoint: 500 descriptor: (500, 32)\n",
      "keypoint: 500 descriptor: (500, 32)\n",
      "keypoint: 500 descriptor: (500, 32)\n"
     ]
    }
   ],
   "source": [
    "#keypoint(img1,ORB)\n",
    "cv2.imshow(\"keypoint_ORB_anapruna_right_01\",keypoint(img1,ORB))\n",
    "cv2.imwrite('keypoint_ORB_anapruna_right_01.jpg',keypoint(img1,ORB))\n",
    "cv2.imshow(\"keypoint_ORB_anapruna_left_01\",keypoint(img2,ORB))\n",
    "cv2.imwrite('keypoint_ORB_anapruna_left_01.jpg',keypoint(img2,ORB))\n",
    "cv2.waitKey(0)\n",
    "cv2.destroyAllWindows()"
   ]
  },
  {
   "cell_type": "code",
   "execution_count": 16,
   "metadata": {
    "scrolled": true
   },
   "outputs": [
    {
     "name": "stdout",
     "output_type": "stream",
     "text": [
      "bryce01\n",
      "keypoint: 5892 descriptor: (5892, 128)\n",
      "keypoint: 5892 descriptor: (5892, 128)\n",
      "keypoint: 6140 descriptor: (6140, 128)\n",
      "keypoint: 6140 descriptor: (6140, 128)\n",
      "keypoint: 1086 descriptor: (1086, 32)\n",
      "keypoint: 1086 descriptor: (1086, 32)\n",
      "keypoint: 1291 descriptor: (1291, 32)\n",
      "keypoint: 1291 descriptor: (1291, 32)\n",
      "keypoint: 500 descriptor: (500, 32)\n",
      "keypoint: 500 descriptor: (500, 32)\n",
      "keypoint: 500 descriptor: (500, 32)\n",
      "keypoint: 500 descriptor: (500, 32)\n"
     ]
    }
   ],
   "source": [
    "#keypoint(img1,SIFT)\n",
    "(img1,img2) = image_choice(\"bryce01\")\n",
    "cv2.imshow(\"img1\",img1)\n",
    "cv2.imshow(\"keypoint_SIFT_bryce01_right_01\",keypoint(img1,SIFT))\n",
    "cv2.imwrite('keypoint_SIFT_bryce01_right_01.jpg',keypoint(img1,SIFT))\n",
    "cv2.imshow(\"keypoint_SIFT_bryce01_left_01\",keypoint(img2,SIFT))\n",
    "cv2.imwrite('keypoint_SIFT_bryce01_left_01.jpg',keypoint(img2,SIFT))\n",
    "cv2.waitKey(0)\n",
    "cv2.destroyAllWindows()\n",
    "#keypoint(img1,BRIEF)\n",
    "cv2.imshow(\"keypoint_BRIEF_bryce01_right_01\",keypoint(img1,BRIEF))\n",
    "cv2.imwrite('keypoint_BRIEF_bryce01_right_01.jpg',keypoint(img1,BRIEF))\n",
    "cv2.imshow(\"keypoint_BRIEF_bryce01_left_01\",keypoint(img2,BRIEF))\n",
    "cv2.imwrite('keypoint_BRIEF_bryce01_left_01.jpg',keypoint(img2,BRIEF))\n",
    "cv2.waitKey(0)\n",
    "cv2.destroyAllWindows()\n",
    "#keypoint(img1,ORB)\n",
    "cv2.imshow(\"keypoint_ORB_bryce01_right_01\",keypoint(img1,ORB))\n",
    "cv2.imwrite('keypoint_ORB_bryce01_right_01.jpg',keypoint(img1,ORB))\n",
    "cv2.imshow(\"keypoint_ORB_bryce01_left_01\",keypoint(img2,ORB))\n",
    "cv2.imwrite('keypoint_ORB_bryce01_left_01.jpg',keypoint(img2,ORB))\n",
    "cv2.waitKey(0)\n",
    "cv2.destroyAllWindows()"
   ]
  },
  {
   "cell_type": "code",
   "execution_count": 17,
   "metadata": {
    "scrolled": true
   },
   "outputs": [
    {
     "name": "stdout",
     "output_type": "stream",
     "text": [
      "grand_canyon01\n",
      "keypoint: 7474 descriptor: (7474, 128)\n",
      "keypoint: 7474 descriptor: (7474, 128)\n",
      "keypoint: 8041 descriptor: (8041, 128)\n",
      "keypoint: 8041 descriptor: (8041, 128)\n",
      "keypoint: 1320 descriptor: (1320, 32)\n",
      "keypoint: 1320 descriptor: (1320, 32)\n",
      "keypoint: 1283 descriptor: (1283, 32)\n",
      "keypoint: 1283 descriptor: (1283, 32)\n",
      "keypoint: 500 descriptor: (500, 32)\n",
      "keypoint: 500 descriptor: (500, 32)\n",
      "keypoint: 500 descriptor: (500, 32)\n",
      "keypoint: 500 descriptor: (500, 32)\n"
     ]
    }
   ],
   "source": [
    "#keypoint(img1,SIFT)\n",
    "(img1,img2) = image_choice(\"grand_canyon01\")\n",
    "cv2.imshow(\"img1\",img1)\n",
    "cv2.imshow(\"keypoint_SIFT_grand_canyon01_right_01\",keypoint(img1,SIFT))\n",
    "cv2.imwrite('keypoint_SIFT_grand_canyon01_right_01.jpg',keypoint(img1,SIFT))\n",
    "cv2.imshow(\"keypoint_SIFT_grand_canyon01_left_01\",keypoint(img2,SIFT))\n",
    "cv2.imwrite('keypoint_SIFT_grand_canyon01_left_01.jpg',keypoint(img2,SIFT))\n",
    "cv2.waitKey(0)\n",
    "cv2.destroyAllWindows()\n",
    "#keypoint(img1,BRIEF)\n",
    "cv2.imshow(\"keypoint_BRIEF_grand_canyon01_right_01\",keypoint(img1,BRIEF))\n",
    "cv2.imwrite('keypoint_BRIEF_grand_canyon01_right_01.jpg',keypoint(img1,BRIEF))\n",
    "cv2.imshow(\"keypoint_BRIEF_grand_canyon01_left_01\",keypoint(img2,BRIEF))\n",
    "cv2.imwrite('keypoint_BRIEF_grand_canyon01_left_01.jpg',keypoint(img2,BRIEF))\n",
    "cv2.waitKey(0)\n",
    "cv2.destroyAllWindows()\n",
    "#keypoint(img1,ORB)\n",
    "cv2.imshow(\"keypoint_ORB_grand_canyon01_right_01\",keypoint(img1,ORB))\n",
    "cv2.imwrite('keypoint_ORB_grand_canyon01_right_01.jpg',keypoint(img1,ORB))\n",
    "cv2.imshow(\"keypoint_ORB_grand_canyon01_left_01\",keypoint(img2,ORB))\n",
    "cv2.imwrite('keypoint_ORB_grand_canyon01_left_01.jpg',keypoint(img2,ORB))\n",
    "cv2.waitKey(0)\n",
    "cv2.destroyAllWindows()"
   ]
  },
  {
   "cell_type": "code",
   "execution_count": 17,
   "metadata": {},
   "outputs": [],
   "source": [
    "#keypoint(img1,SIFT)\n",
    "def result_keypoint_print(img_name):\n",
    "    (img1,img2) = image_choice(img_name)\n",
    "    cv2.imshow(\"img1\",img1)\n",
    "    cv2.imshow(\"keypoint_SIFT_\"+img_name+\"_right_01\",keypoint(img1,SIFT))\n",
    "    cv2.imwrite(\"keypoint_SIFT_\"+img_name+\"_right_01.jpg\",keypoint(img1,SIFT))\n",
    "    cv2.imshow(\"keypoint_SIFT_\" +img_name+\"_left_01\",keypoint(img2,SIFT))\n",
    "    cv2.imwrite(\"keypoint_SIFT_\" +img_name+ \"_left_01.jpg\",keypoint(img2,SIFT))\n",
    "    cv2.waitKey(0)\n",
    "    cv2.destroyAllWindows()\n",
    "    print(\"BRIEF\")\n",
    "    #keypoint(img1,BRIEF)\n",
    "    cv2.imshow(\"keypoint_BRIEF\"+img_name+\"right_01\",keypoint(img1,BRIEF))\n",
    "    cv2.imwrite(\"keypoint_BRIEF_\"+img_name+\"_right_01.jpg\",keypoint(img1,BRIEF))\n",
    "    cv2.imshow(\"keypoint_BRIEF_\"+img_name+\"_left_01\",keypoint(img2,BRIEF))\n",
    "    cv2.imwrite(\"keypoint_BRIEF_\"+img_name+\"_left_01.jpg\",keypoint(img2,BRIEF))\n",
    "    cv2.waitKey(0)\n",
    "    cv2.destroyAllWindows()\n",
    "    #keypoint(img1,ORB)\n",
    "    print(\"ORB\")\n",
    "    cv2.imshow(\"keypoint_ORB_\"+img_name+\"_right_01\",keypoint(img1,ORB))\n",
    "    cv2.imwrite(\"keypoint_ORB_\"+img_name+\"_right_01.jpg\",keypoint(img1,ORB))\n",
    "    cv2.imshow(\"keypoint_ORB_\"+img_name+\"_left_01\",keypoint(img2,ORB))\n",
    "    cv2.imwrite(\"keypoint_ORB_\"+img_name+\"_left_01.jpg\",keypoint(img2,ORB))\n",
    "    cv2.waitKey(0)\n",
    "    cv2.destroyAllWindows()"
   ]
  },
  {
   "cell_type": "code",
   "execution_count": 24,
   "metadata": {
    "scrolled": false
   },
   "outputs": [
    {
     "name": "stdout",
     "output_type": "stream",
     "text": [
      "grand_canyon01\n",
      "keypoint: 7474 descriptor: (7474, 128)\n",
      "keypoint: 7474 descriptor: (7474, 128)\n",
      "keypoint: 8041 descriptor: (8041, 128)\n",
      "keypoint: 8041 descriptor: (8041, 128)\n",
      "BRIEF\n",
      "keypoint: 1320 descriptor: (1320, 32)\n",
      "keypoint: 1320 descriptor: (1320, 32)\n",
      "keypoint: 1283 descriptor: (1283, 32)\n",
      "keypoint: 1283 descriptor: (1283, 32)\n",
      "ORB\n",
      "keypoint: 500 descriptor: (500, 32)\n",
      "keypoint: 500 descriptor: (500, 32)\n",
      "keypoint: 500 descriptor: (500, 32)\n",
      "keypoint: 500 descriptor: (500, 32)\n"
     ]
    }
   ],
   "source": [
    "grand_canyon01 = \"grand_canyon01\"\n",
    "result_keypoint_print(grand_canyon01)"
   ]
  },
  {
   "cell_type": "code",
   "execution_count": 18,
   "metadata": {},
   "outputs": [
    {
     "name": "stdout",
     "output_type": "stream",
     "text": [
      "bryce01\n",
      "keypoint: 5892 descriptor: (5892, 128)\n",
      "keypoint: 5892 descriptor: (5892, 128)\n",
      "keypoint: 6140 descriptor: (6140, 128)\n",
      "keypoint: 6140 descriptor: (6140, 128)\n",
      "BRIEF\n",
      "keypoint: 1086 descriptor: (1086, 32)\n",
      "keypoint: 1086 descriptor: (1086, 32)\n",
      "keypoint: 1291 descriptor: (1291, 32)\n",
      "keypoint: 1291 descriptor: (1291, 32)\n",
      "ORB\n",
      "keypoint: 500 descriptor: (500, 32)\n",
      "keypoint: 500 descriptor: (500, 32)\n",
      "keypoint: 500 descriptor: (500, 32)\n",
      "keypoint: 500 descriptor: (500, 32)\n"
     ]
    }
   ],
   "source": [
    "bryce01 = \"bryce01\"\n",
    "result_keypoint_print(bryce01)"
   ]
  },
  {
   "cell_type": "code",
   "execution_count": 25,
   "metadata": {},
   "outputs": [
    {
     "name": "stdout",
     "output_type": "stream",
     "text": [
      "sedona\n",
      "keypoint: 1764 descriptor: (1764, 128)\n",
      "keypoint: 1764 descriptor: (1764, 128)\n",
      "keypoint: 2752 descriptor: (2752, 128)\n",
      "keypoint: 2752 descriptor: (2752, 128)\n",
      "BRIEF\n",
      "keypoint: 82 descriptor: (82, 32)\n",
      "keypoint: 82 descriptor: (82, 32)\n",
      "keypoint: 122 descriptor: (122, 32)\n",
      "keypoint: 122 descriptor: (122, 32)\n",
      "ORB\n",
      "keypoint: 500 descriptor: (500, 32)\n",
      "keypoint: 500 descriptor: (500, 32)\n",
      "keypoint: 500 descriptor: (500, 32)\n",
      "keypoint: 500 descriptor: (500, 32)\n"
     ]
    }
   ],
   "source": [
    "sedona = \"sedona\"\n",
    "result_keypoint_print(sedona)"
   ]
  },
  {
   "cell_type": "code",
   "execution_count": 27,
   "metadata": {},
   "outputs": [],
   "source": [
    "# matching "
   ]
  },
  {
   "cell_type": "code",
   "execution_count": 19,
   "metadata": {},
   "outputs": [],
   "source": [
    "def findFeature(img1,im2,gubun):\n",
    "    print(\"findFeature gubun : \",gubun )\n",
    "    gray1 = cv2.cvtColor(img1, cv2.COLOR_BGR2GRAY)\n",
    "    gray2 = cv2.cvtColor(img2, cv2.COLOR_BGR2GRAY)\n",
    "    \n",
    "    if gubun == 'SIFT':\n",
    "        detector = cv2.xfeatures2d.SIFT_create()\n",
    "    elif gubun == 'BRIEF':    \n",
    "        # BRIEF 특징 추출 \n",
    "        star = cv2.xfeatures2d.StarDetector_create()\n",
    "        detector = cv2.xfeatures2d.BriefDescriptorExtractor_create()\n",
    "    elif gubun == 'ORB':    \n",
    "        orb = cv2.ORB_create()\n",
    "       # keypoints, descriptor = orb.detectAndCompute(gray, None)\n",
    "    else :\n",
    "        print(\"gubun error\")\n",
    "    \n",
    "    # 각 영상에 대해 키 포인트와 서술자 추출\n",
    "    if gubun == 'BRIEF': \n",
    "        k1 = star.detect(gray1,None) \n",
    "        kp1, desc1 = detector.compute(gray1,k1)\n",
    "        k2 = star.detect(gray2,None) \n",
    "        kp2, desc2 = detector.compute(gray2,k2)\n",
    "    elif gubun == 'ORB':    \n",
    "        kp1, desc1 = orb.detectAndCompute(gray1, None)\n",
    "        kp2, desc2 = orb.detectAndCompute(gray2, None)\n",
    "    else :   \n",
    "        kp1, desc1 = detector.detectAndCompute(gray1, None)\n",
    "        kp2, desc2 = detector.detectAndCompute(gray2, None)\n",
    "        \n",
    "    return kp1, desc1,kp2, desc2        "
   ]
  },
  {
   "cell_type": "code",
   "execution_count": 20,
   "metadata": {},
   "outputs": [],
   "source": [
    "def matcher(img1, img2, al_gubun, sti_gubun):\n",
    "    #imagename1 = 'paired_images/' + imagename1\n",
    "    #imagename2 = 'paired_images/' + imagename2\n",
    "\n",
    "    #img1 = cv2.imread(imagename1)\n",
    "    #img2 = cv2.imread(imagename2)\n",
    "    \n",
    "    (kp1, desc1, kp2, desc2 ) = findFeature(img1, img2, al_gubun)\n",
    "    \n",
    "    # BFMatcher 생성, L1 거리, 상호 체크\n",
    "    if al_gubun == 'SIFT':\n",
    "        matcher = cv2.BFMatcher(cv2.NORM_L1, crossCheck=True)\n",
    "    elif al_gubun == 'BRIEF':\n",
    "        matcher = cv2.BFMatcher(cv2.NORM_HAMMING, crossCheck=True)\n",
    "    elif al_gubun == 'ORB':      \n",
    "        matcher = cv2.BFMatcher(cv2.NORM_HAMMING, crossCheck=True)\n",
    "    \n",
    "    #매칭 계산\n",
    "    matches = matcher.match(desc1, desc2)\n",
    "    \n",
    "    # 매칭 결과 그리기\n",
    "    match_img = cv2.drawMatches(img1, kp1, img2, kp2, matches, None, flags=cv2.DRAW_MATCHES_FLAGS_NOT_DRAW_SINGLE_POINTS)   \n",
    "    \n",
    "    # 좋은 매칭 결과 \n",
    "    good_matches_temp = sorted(matches, key=lambda x: x.distance)\n",
    "    good_matches = good_matches_temp[:100] # 상위 50개 선별\n",
    "    \n",
    "    good_match_img = cv2.drawMatches(img1, kp1, img2, kp2, good_matches, None)\n",
    "\n",
    "    \n",
    "    # homography 행렬 산출 \n",
    "    src = np.float32([kp1[m.queryIdx].pt for m in matches]).reshape((-1, 1, 2))\n",
    "    dst = np.float32([kp2[m.trainIdx].pt for m in matches]).reshape((-1, 1, 2))\n",
    "   \n",
    "    # RANSAC일 경우와 그 외의 경우이다. \n",
    "    # METHOD방법을 주지 않으면 최소자승법(Least-Square)적용된다.    \n",
    "    if sti_gubun == 'RANSAC':\n",
    "        H1, status1 = cv2.findHomography(src, dst, cv2.RANSAC, 5.0)\n",
    "    else :\n",
    "        H1, status1 = cv2.findHomography(src, dst, None)\n",
    "        \n",
    "   # H1, status1 = cv2.findHomography(src, dst, sti_gubun)\n",
    "    #H1, status1 = cv2.findHomography(src, dst, cv2.LMEDS, 5.0)\n",
    "    #H1, status1 = cv2.findHomography(src, dst, cv2.RANSAC, 5.0)\n",
    " \n",
    "\n",
    "    # 좋은 매칭 homography 행렬 산출 \n",
    "    src_g = np.float32([kp1[m.queryIdx].pt for m in good_matches]).reshape((-1, 1, 2))\n",
    "    dst_g = np.float32([kp2[m.trainIdx].pt for m in good_matches]).reshape((-1, 1, 2))\n",
    "\n",
    "    # RANSAC일 경우와 그 외의 경우이다. \n",
    "    # METHOD방법을 주지 않으면 최소자승법(Least-Square)적용된다. \n",
    "    if sti_gubun == 'RANSAC':\n",
    "        print(\"sti_gubun\",sti_gubun)\n",
    "        H1_g, status1_g = cv2.findHomography(src_g, dst_g, cv2.RANSAC, 5.0)\n",
    "    else :\n",
    "        H1_g, status1_g = cv2.findHomography(src_g, dst_g, None)\n",
    "    \n",
    "    \n",
    "    # 매칭 결과 그리기\n",
    "  #  res = cv2.drawMatches(img1, kp1, img2, kp2, good_matches, None, flags=cv2.DRAW_MATCHES_FLAGS_NOT_DRAW_SINGLE_POINTS)        \n",
    "\n",
    "    return (match_img,H1,good_match_img,H1_g,matches,good_matches)   "
   ]
  },
  {
   "cell_type": "code",
   "execution_count": 21,
   "metadata": {},
   "outputs": [],
   "source": [
    "def stitiching(img1,img2,H1):\n",
    "    \n",
    "    # IMAGE STITCHING \n",
    "    dst = cv2.warpPerspective(img1,H1,(img2.shape[1] + img1.shape[1], img2.shape[0]))\n",
    "    dst[0:img2.shape[0],0:img2.shape[1]] = img2\n",
    "    #cv2.imshow(\"original_image_stitched.jpg\", dst)\n",
    "    #cv2.waitKey(0)\n",
    "    #cv2.destroyAllWindows()\n",
    "   \n",
    "    return(dst)\n",
    "    "
   ]
  },
  {
   "cell_type": "code",
   "execution_count": 22,
   "metadata": {},
   "outputs": [],
   "source": [
    "def result_match_print(img_name,gubun):\n",
    "    # SIFT로 제공된 MATCH IMAGE\n",
    "    print(\"input image : \",img_name,\"input gubun : \", gubun)\n",
    "    (img1,img2) = image_choice(img_name)\n",
    "    cv2.imshow( gubun+\"_\"+img_name,img1)\n",
    "    cv2.waitKey(0)\n",
    "    cv2.destroyAllWindows()    \n",
    "    (match_img,H1,good_match_img,H1_g,matches,good_matches) = matcher(img1,img2,gubun,None)\n",
    "    print(\"H1\", H1)\n",
    "    print(\"H1_g\", H1_g)\n",
    "    cv2.imshow(gubun+\"_match_\"+img_name,match_img)\n",
    "    cv2.imwrite(gubun+\"_match_\"+img_name+\".jpg\",match_img)\n",
    "   \n",
    "    \n",
    "    cv2.imshow(gubun+\"_good_match_\"+img_name,good_match_img)\n",
    "    cv2.imwrite(gubun+\"_good_match_\"+img_name+\".jpg\",good_match_img)\n",
    "    cv2.waitKey(0)\n",
    "    cv2.destroyAllWindows()\n",
    "    # SIFT로 제공된 stitiching\n",
    "    (dst) = stitiching(img1,img2,H1)\n",
    "    (dst_g) = stitiching(img1,img2,H1_g)\n",
    "    cv2.imshow(gubun+\"_stitiching_\"+img_name,dst)\n",
    "    cv2.imshow(gubun+\"_good_stitiching_\"+img_name,dst_g)\n",
    "    cv2.imwrite(gubun+\"_stitiching_\"+img_name+\".jpg\",dst)\n",
    "    cv2.imwrite(gubun+\"_good_stitiching_\"+img_name+\".jpg\",dst_g)\n",
    "    cv2.waitKey(0)\n",
    "    cv2.destroyAllWindows()\n",
    "\n"
   ]
  },
  {
   "cell_type": "code",
   "execution_count": 23,
   "metadata": {},
   "outputs": [
    {
     "name": "stdout",
     "output_type": "stream",
     "text": [
      "input image :  bryce01 input gubun :  SIFT\n",
      "bryce01\n",
      "findFeature gubun :  SIFT\n",
      "H1 [[-3.79089105e-01 -2.06750230e-01  4.32564480e+02]\n",
      " [-1.69984367e-01 -6.45304236e-02  1.78581058e+02]\n",
      " [-8.65573823e-04 -5.02447014e-04  1.00000000e+00]]\n",
      "H1_g [[ 6.66509837e-01  2.20328407e-02  3.21119909e+02]\n",
      " [-1.33732360e-01  8.94765842e-01  5.35231785e+01]\n",
      " [-3.66861607e-04  3.31526344e-05  1.00000000e+00]]\n"
     ]
    }
   ],
   "source": [
    "result_match_print(bryce01,SIFT)"
   ]
  },
  {
   "cell_type": "code",
   "execution_count": 123,
   "metadata": {},
   "outputs": [
    {
     "name": "stdout",
     "output_type": "stream",
     "text": [
      "input image :  bryce01 input gubun :  BRIEF\n",
      "bryce01\n",
      "findFeature gubun :  BRIEF\n",
      "sti_gubun None\n",
      "sti_gubun None\n"
     ]
    }
   ],
   "source": [
    "result_match_print(bryce01,BRIEF)"
   ]
  },
  {
   "cell_type": "code",
   "execution_count": 124,
   "metadata": {},
   "outputs": [
    {
     "name": "stdout",
     "output_type": "stream",
     "text": [
      "input image :  bryce01 input gubun :  ORB\n",
      "bryce01\n",
      "findFeature gubun :  ORB\n",
      "sti_gubun None\n",
      "sti_gubun None\n"
     ]
    }
   ],
   "source": [
    "result_match_print(bryce01,ORB)"
   ]
  },
  {
   "cell_type": "code",
   "execution_count": 24,
   "metadata": {},
   "outputs": [],
   "source": [
    "def result_match_print_ransac(img_name,gubun,method):\n",
    "    # SIFT로 제공된 MATCH IMAGE\n",
    "    print(\"input image : \",img_name,\"input gubun : \", gubun,\"mdthod : \",method)\n",
    "    (img1,img2) = image_choice(img_name) \n",
    "    (match_img,H1,good_match_img,H1_g,matches,good_matches) = matcher(img1,img2,gubun,method)\n",
    "    # SIFT로 제공된 stitiching\n",
    "    (dst) = stitiching(img1,img2,H1)\n",
    "    (dst_g) = stitiching(img1,img2,H1_g)\n",
    "    cv2.imshow(gubun+\"_stitiching_\"+method+img_name,dst)\n",
    "    cv2.imshow(gubun+\"_good_stitiching_\"+method+img_name,dst_g)\n",
    "    cv2.imwrite(gubun+\"_stitiching_\"+method+img_name+\".jpg\",dst)\n",
    "    cv2.imwrite(gubun+\"_good_stitiching_\"+method+img_name+\".jpg\",dst_g)\n",
    "    cv2.waitKey(0)\n",
    "    cv2.destroyAllWindows()\n"
   ]
  },
  {
   "cell_type": "code",
   "execution_count": 64,
   "metadata": {},
   "outputs": [
    {
     "name": "stdout",
     "output_type": "stream",
     "text": [
      "input image :  bryce01 input gubun :  SIFT mdthod :  RANSAC\n",
      "bryce01\n",
      "findFeature gubun :  SIFT\n",
      "sti_gubun RANSAC\n",
      "sti_gubun1 RANSAC\n"
     ]
    }
   ],
   "source": [
    "RANSAC = \"RANSAC\"\n",
    "result_match_print_ransac(bryce01,SIFT,RANSAC)"
   ]
  },
  {
   "cell_type": "code",
   "execution_count": 65,
   "metadata": {},
   "outputs": [
    {
     "name": "stdout",
     "output_type": "stream",
     "text": [
      "input image :  bryce01 input gubun :  BRIEF mdthod :  RANSAC\n",
      "bryce01\n",
      "findFeature gubun :  BRIEF\n",
      "sti_gubun RANSAC\n",
      "sti_gubun1 RANSAC\n"
     ]
    }
   ],
   "source": [
    "result_match_print_ransac(bryce01,BRIEF,RANSAC)"
   ]
  },
  {
   "cell_type": "code",
   "execution_count": 66,
   "metadata": {},
   "outputs": [
    {
     "name": "stdout",
     "output_type": "stream",
     "text": [
      "input image :  bryce01 input gubun :  ORB mdthod :  RANSAC\n",
      "bryce01\n",
      "findFeature gubun :  ORB\n",
      "sti_gubun RANSAC\n",
      "sti_gubun1 RANSAC\n"
     ]
    }
   ],
   "source": [
    "result_match_print_ransac(bryce01,ORB,RANSAC)"
   ]
  },
  {
   "cell_type": "code",
   "execution_count": 25,
   "metadata": {},
   "outputs": [
    {
     "name": "stdout",
     "output_type": "stream",
     "text": [
      "bryce01\n",
      "findFeature gubun :  SIFT\n"
     ]
    }
   ],
   "source": [
    "# SIFT로 제공된 MATCH IMAGE\n",
    "(img1,img2) = image_choice(\"bryce01\")\n",
    "cv2.imshow(\"SIFT_01\",img1)\n",
    "(match_img,H1,good_match_img,H1_g,matches,good_matches) = matcher(img1,img2,SIFT,None)\n",
    "cv2.imshow(\"SIFT_01\",match_img)\n",
    "cv2.imshow(\"SIFT_01_good\",good_match_img)\n",
    "cv2.imwrite('SIFT_01.jpg',match_img)\n",
    "cv2.imwrite('SIFT_01_good.jpg',good_match_img)\n",
    "cv2.waitKey(0)\n",
    "cv2.destroyAllWindows()\n"
   ]
  },
  {
   "cell_type": "code",
   "execution_count": 56,
   "metadata": {},
   "outputs": [],
   "source": [
    "# SIFT로 제공된 stitiching\n",
    "(dst) = stitiching(img1,img2,H1)\n",
    "(dst_g) = stitiching(img1,img2,H1_g)\n",
    "cv2.imshow(\"SIFT_01_stitiching\",dst)\n",
    "cv2.imshow(\"SIFT_01_stitiching_g\",dst_g)\n",
    "#cv2.imwrite('BRIEF_01_pano.jpg',dst)\n",
    "cv2.waitKey(0)\n",
    "cv2.destroyAllWindows()"
   ]
  },
  {
   "cell_type": "code",
   "execution_count": 32,
   "metadata": {},
   "outputs": [
    {
     "name": "stdout",
     "output_type": "stream",
     "text": [
      "sti_gubun None\n",
      "sti_gubun None\n"
     ]
    }
   ],
   "source": [
    "# BRIEF로 제공된 MATCH IMAGE\n",
    "cv2.imshow(\"BRIEF_01\",img1)\n",
    "(match_img,H1,good_match_img,H1_g,matches,good_matches) = matcher(img1,img2,BRIEF,None)\n",
    "cv2.imshow(\"BRIEF_01\",match_img)\n",
    "cv2.imshow(\"BRIEF_01_good\",good_match_img)\n",
    "cv2.imwrite('BRIEF_01.jpg',match_img)\n",
    "cv2.imwrite('BRIEF_01_good.jpg',good_match_img)\n",
    "cv2.waitKey(0)\n",
    "cv2.destroyAllWindows()\n"
   ]
  },
  {
   "cell_type": "code",
   "execution_count": 33,
   "metadata": {},
   "outputs": [],
   "source": [
    "# BRIEF로 제공된 stitiching\n",
    "(dst) = stitiching(img1,img2,H1)\n",
    "(dst_g) = stitiching(img1,img2,H1_g)\n",
    "cv2.imshow(\"BRIEF_01_stitiching\",dst)\n",
    "cv2.imshow(\"BRIEF_01_stitiching_g\",dst_g)\n",
    "#cv2.imwrite('BRIEF_01_pano.jpg',dst)\n",
    "cv2.waitKey(0)\n",
    "cv2.destroyAllWindows()"
   ]
  },
  {
   "cell_type": "code",
   "execution_count": 38,
   "metadata": {},
   "outputs": [
    {
     "name": "stdout",
     "output_type": "stream",
     "text": [
      "sti_gubun None\n",
      "sti_gubun None\n"
     ]
    }
   ],
   "source": [
    "# ORB로 제공된 MATCH IMAGE\n",
    "(match_img,H1,good_match_img,H1_g,matches) = matcher(img1,img2,ORB,None)\n",
    "cv2.imshow(\"ORB_01\",match_img)\n",
    "cv2.imshow(\"ORB_01_good\",good_match_img)\n",
    "cv2.imwrite('ORB_01.jpg',match_img)\n",
    "cv2.imwrite('ORB_01_good.jpg',good_match_img)\n",
    "cv2.waitKey(0)\n",
    "cv2.destroyAllWindows()\n"
   ]
  },
  {
   "cell_type": "code",
   "execution_count": 39,
   "metadata": {},
   "outputs": [],
   "source": [
    "# ORB로 제공된 stitiching\n",
    "(dst) = stitiching(img1,img2,H1)\n",
    "(dst_g) = stitiching(img1,img2,H1_g)\n",
    "cv2.imshow(\"ORB_01_stitiching\",dst)\n",
    "cv2.imshow(\"ORB_01_stitiching_g\",dst_g)\n",
    "cv2.waitKey(0)\n",
    "cv2.destroyAllWindows()"
   ]
  },
  {
   "cell_type": "code",
   "execution_count": 34,
   "metadata": {},
   "outputs": [],
   "source": [
    "#RANSAC이용 "
   ]
  },
  {
   "cell_type": "code",
   "execution_count": 57,
   "metadata": {},
   "outputs": [
    {
     "name": "stdout",
     "output_type": "stream",
     "text": [
      "bryce01\n",
      "findFeature gubun :  SIFT\n",
      "sti_gubun RANSAC\n",
      "sti_gubun1 RANSAC\n"
     ]
    }
   ],
   "source": [
    "# SIFT로 제공된 MATCH IMAGE Ransac이용 \n",
    "(img1,img2) = image_choice(\"bryce01\")\n",
    "#cv2.imshow(\"SIFT_01\",img1)\n",
    "(match_img,H1,good_match_img,H1_g,matches,good_matches) = matcher(img1,img2,SIFT,'RANSAC')\n",
    "cv2.imshow(\"SIFT_01_RANSAC\",match_img)\n",
    "cv2.imshow(\"SIFT_01_RANSAC_good\",good_match_img)\n",
    "cv2.imwrite('SIFT_01_RANSAC.jpg',match_img)\n",
    "cv2.imwrite('SIFT_01_RANSAC_good.jpg',good_match_img)\n",
    "cv2.waitKey(0)\n",
    "cv2.destroyAllWindows()\n"
   ]
  },
  {
   "cell_type": "code",
   "execution_count": 58,
   "metadata": {},
   "outputs": [],
   "source": [
    "# SIFT로 제공된 stitiching\n",
    "(dst) = stitiching(img1,img2,H1)\n",
    "(dst_g) = stitiching(img1,img2,H1_g)\n",
    "cv2.imshow(\"SIFT_01_RANSAC_stitiching\",dst)\n",
    "cv2.imshow(\"SIFT_01_RANSACstitiching_g\",dst_g)\n",
    "#cv2.imwrite('BRIEF_01_pano.jpg',dst)\n",
    "cv2.waitKey(0)\n",
    "cv2.destroyAllWindows()"
   ]
  },
  {
   "cell_type": "code",
   "execution_count": 42,
   "metadata": {},
   "outputs": [
    {
     "name": "stdout",
     "output_type": "stream",
     "text": [
      "sti_gubun RANSAC\n",
      "sti_gubun1 RANSAC\n"
     ]
    }
   ],
   "source": [
    "# BRIEF로 제공된 MATCH IMAGE\n",
    "#cv2.imshow(\"BRIEF_01\",img1)\n",
    "(match_img,H1,good_match_img,H1_g,matches,good_matches) = matcher(img1,img2,BRIEF,'RANSAC')\n",
    "cv2.imshow(\"BRIEF_01_RANSAC\",match_img)\n",
    "cv2.imshow(\"BRIEF_01_RANSAC_good\",good_match_img)\n",
    "cv2.imwrite('BRIEF_01_RANSAC.jpg',match_img)\n",
    "cv2.imwrite('BRIEF_01_RANSAC_good.jpg',good_match_img)\n",
    "cv2.waitKey(0)\n",
    "cv2.destroyAllWindows()\n"
   ]
  },
  {
   "cell_type": "code",
   "execution_count": 43,
   "metadata": {},
   "outputs": [],
   "source": [
    "# BRIEF로 제공된 stitiching\n",
    "(dst) = stitiching(img1,img2,H1)\n",
    "(dst_g) = stitiching(img1,img2,H1_g)\n",
    "cv2.imshow(\"BRIEF_01_RANSAC_stitiching\",dst)\n",
    "cv2.imshow(\"BRIEF_01_RANSAC_stitiching_g\",dst_g)\n",
    "#cv2.imwrite('BRIEF_01_pano.jpg',dst)\n",
    "cv2.waitKey(0)\n",
    "cv2.destroyAllWindows()"
   ]
  },
  {
   "cell_type": "code",
   "execution_count": 44,
   "metadata": {},
   "outputs": [
    {
     "name": "stdout",
     "output_type": "stream",
     "text": [
      "sti_gubun RANSAC\n",
      "sti_gubun1 RANSAC\n"
     ]
    }
   ],
   "source": [
    "# ORB로 제공된 MATCH IMAGE\n",
    "(match_img,H1,good_match_img,H1_g,matches) = matcher(img1,img2,ORB,'RANSAC')\n",
    "cv2.imshow(\"ORB_01_RANSAC\",match_img)\n",
    "cv2.imshow(\"ORB_01_RANSAC_good\",good_match_img)\n",
    "cv2.imwrite('ORB_01_RANSAC.jpg',match_img)\n",
    "cv2.imwrite('ORB_01_RANSAC_good.jpg',good_match_img)\n",
    "cv2.waitKey(0)\n",
    "cv2.destroyAllWindows()\n"
   ]
  },
  {
   "cell_type": "code",
   "execution_count": 45,
   "metadata": {},
   "outputs": [],
   "source": [
    "# ORB로 제공된 stitiching\n",
    "(dst) = stitiching(img1,img2,H1)\n",
    "(dst_g) = stitiching(img1,img2,H1_g)\n",
    "cv2.imshow(\"ORB_01_RANSAC_stitiching\",dst)\n",
    "cv2.imshow(\"ORB_01_RANSAC_stitiching_g\",dst_g)\n",
    "cv2.waitKey(0)\n",
    "cv2.destroyAllWindows()"
   ]
  },
  {
   "cell_type": "code",
   "execution_count": 46,
   "metadata": {},
   "outputs": [],
   "source": [
    "#####################################################"
   ]
  },
  {
   "cell_type": "code",
   "execution_count": 30,
   "metadata": {},
   "outputs": [],
   "source": [
    "# BRIEF로 제공된 stitiching\n",
    "(dst) = stitiching(img1,img2,H1)\n",
    "(dst_g) = stitiching(img1,img2,H1_g)\n",
    "cv2.imshow(\"BRIEF_01_stitiching\",dst)\n",
    "cv2.imshow(\"BRIEF_01_stitiching_g\",dst_g)\n",
    "#cv2.imwrite('BRIEF_01_pano.jpg',dst)\n",
    "cv2.waitKey(0)\n",
    "cv2.destroyAllWindows()"
   ]
  },
  {
   "cell_type": "code",
   "execution_count": null,
   "metadata": {},
   "outputs": [],
   "source": [
    "# SIFT로 제공된 stitiching\n",
    "(dst) = stitiching(img1,img2,H1)\n",
    "(dst_g) = stitiching(img1,img2,H1_g)\n",
    "cv2.imshow(\"SIFT_01_stitiching\",dst)\n",
    "cv2.imshow(\"SIFT_01_stitiching_g\",dst_g)\n",
    "#cv2.imwrite('BRIEF_01_pano.jpg',dst)\n",
    "cv2.waitKey(0)\n",
    "cv2.destroyAllWindows()"
   ]
  },
  {
   "cell_type": "code",
   "execution_count": 18,
   "metadata": {},
   "outputs": [],
   "source": [
    "## RANSAC적용"
   ]
  },
  {
   "cell_type": "code",
   "execution_count": 35,
   "metadata": {},
   "outputs": [],
   "source": [
    "def ransac(corr, thresh):\n",
    "    maxInliers = []\n",
    "    finalH = None\n",
    "    for i in range(1000):\n",
    "        #4개의 random point 추출 \n",
    "        corr1 = corr[random.randrange(0, len(corr))]\n",
    "        corr2 = corr[random.randrange(0, len(corr))]\n",
    "        # 행렬생성 \n",
    "        randomFour = np.vstack((corr1, corr2))\n",
    "        \n",
    "        corr3 = corr[random.randrange(0, len(corr))]\n",
    "        randomFour = np.vstack((randomFour, corr3))\n",
    "        \n",
    "        corr4 = corr[random.randrange(0, len(corr))]\n",
    "        randomFour = np.vstack((randomFour, corr4))\n",
    "\n",
    "        #Homography 행렬 생성 \n",
    "        h = calculateHomography(randomFour)\n",
    "        inliers = []\n",
    "\n",
    "        for i in range(len(corr)):\n",
    "            d = geometricDistance(corr[i], h)\n",
    "            # 차이값으로 정하기 나름이다. 여기서는 5를 사용 \n",
    "            if d < 5:\n",
    "                inliers.append(corr[i])\n",
    "                \n",
    "        # inlier의 길이> maxInliers길이 이면 inlier의 길이를 max로 옮기고 \n",
    "        # 그때의 Homography 행렬을 넣어준다. \n",
    "        if len(inliers) > len(maxInliers):\n",
    "            #print(\"len(maxInliers)\",len(maxInliers))\n",
    "            maxInliers = inliers\n",
    "            finalH = h\n",
    "        # threshold 값을 곱한값이  maxInliers의 길이보다 작으면 멈춤 \n",
    "        if len(maxInliers) > (len(corr)*thresh):\n",
    "            break\n",
    "            \n",
    "    return finalH, maxInliers"
   ]
  },
  {
   "cell_type": "code",
   "execution_count": 36,
   "metadata": {},
   "outputs": [],
   "source": [
    "def calculateHomography(correspondences):\n",
    "\n",
    "    aList = []\n",
    "    for corr in correspondences:\n",
    "        p1 = np.matrix([corr.item(0), corr.item(1), 1])\n",
    "        p2 = np.matrix([corr.item(2), corr.item(3), 1])\n",
    "        \n",
    "        # -x -y, -1 0 0 0  xx' yx' x'\n",
    "        a1 = [-p2.item(2) * p1.item(0), -p2.item(2) * p1.item(1), -p2.item(2) * p1.item(2), 0, 0, 0,\n",
    "              p2.item(0) * p1.item(0), p2.item(0) * p1.item(1), p2.item(0) * p1.item(2)]\n",
    "        \n",
    "        # 0 0 0 -x -y -1 xy' yy' y' \n",
    "        a2 = [0, 0, 0, -p2.item(2) * p1.item(0), -p2.item(2) * p1.item(1), -p2.item(2) * p1.item(2),\n",
    "              p2.item(1) * p1.item(0), p2.item(1) * p1.item(1), p2.item(1) * p1.item(2)]\n",
    "\n",
    "        aList.append(a1)\n",
    "        aList.append(a2)\n",
    "\n",
    "    matrixA = np.matrix(aList)\n",
    "\n",
    "    #특이값분해  u,v 직교 행렬, s 대각행렬 \n",
    "    u, s, v = np.linalg.svd(matrixA)\n",
    "\n",
    "    #Homography행렬 3*3 matrix 로 변환 \n",
    "    h = np.reshape(v[8], (3, 3))\n",
    "\n",
    "    h = (1/h.item(8)) * h\n",
    "    return h\n"
   ]
  },
  {
   "cell_type": "code",
   "execution_count": 37,
   "metadata": {},
   "outputs": [],
   "source": [
    "# Homography matrix와 거리 구하기  \n",
    "def geometricDistance(correspondence, h):\n",
    "     \n",
    "    # h : 3*3 matrix , p1:3*1 matrix \n",
    "    p1 = np.transpose(np.matrix([correspondence[0].item(0), correspondence[0].item(1), 1]))\n",
    "    \n",
    "    # estimatep2 : 3*1 matrix  / h: Homography matrix \n",
    "    estimatep2 = np.dot(h, p1)\n",
    "    estimatep2 = (1/estimatep2.item(2))*estimatep2\n",
    "    \n",
    "    p2 = np.transpose(np.matrix([correspondence[0].item(2), correspondence[0].item(3), 1]))\n",
    "    error = p2 - estimatep2\n",
    "\n",
    "    # 벡터의 norm을 반납한다. \n",
    "    return np.linalg.norm(error)"
   ]
  },
  {
   "cell_type": "code",
   "execution_count": 38,
   "metadata": {},
   "outputs": [],
   "source": [
    "def my_ransac(gubun,mathcing_gubun):\n",
    "    correspondenceList = []\n",
    "    if img1 is not None and img2 is not None:\n",
    "        # keypoint 추출 SIFT방식 사용 \n",
    "        kp1, desc1,kp2, desc2  = findFeature(img1,img2, gubun)\n",
    "        keypoints = [kp1,kp2]\n",
    "    \n",
    "    # MATCHER함수 추출 \n",
    "     # ransac의 경우 여기서는 미사용 match 정보만 사용 \n",
    "    (match_img,H1,good_match_img,H1_g,matches,good_matches)  = matcher(img1,img2,gubun,'RANSAC')\n",
    "\n",
    "    if mathcing_gubun == 'good_match':\n",
    "        print(\"mathcing_gubun\")\n",
    "        for match in good_matches:\n",
    "            (x1, y1) = keypoints[0][match.queryIdx].pt\n",
    "            (x2, y2) = keypoints[1][match.trainIdx].pt\n",
    "            correspondenceList.append([x1, y1, x2, y2])\n",
    "    else:\n",
    "        for match in matches:\n",
    "            (x1, y1) = keypoints[0][match.queryIdx].pt\n",
    "            (x2, y2) = keypoints[1][match.trainIdx].pt\n",
    "            correspondenceList.append([x1, y1, x2, y2])        \n",
    "        \n",
    "    corrs = np.matrix(correspondenceList)\n",
    "    estimation_thresh = 0.6\n",
    "    #print(\"corrs\",corrs)\n",
    "    #ransac 알고리즘 \n",
    "    finalH, inliers = ransac(corrs, estimation_thresh)\n",
    "    #print ( \"homography\" , finalH)\n",
    "    \n",
    "    if mathcing_gubun == 'good_match':\n",
    "        my_ransac_img = cv2.drawMatches(img1, kp1, img2, kp2, good_matches, None)\n",
    "    else : \n",
    "        my_ransac_img = cv2.drawMatches(img1, kp1, img2, kp2, matches, None, flags=cv2.DRAW_MATCHES_FLAGS_NOT_DRAW_SINGLE_POINTS) \n",
    "        \n",
    "    return (my_ransac_img, finalH) "
   ]
  },
  {
   "cell_type": "code",
   "execution_count": 39,
   "metadata": {},
   "outputs": [
    {
     "name": "stdout",
     "output_type": "stream",
     "text": [
      "findFeature gubun :  SIFT\n",
      "findFeature gubun :  SIFT\n",
      "sti_gubun RANSAC\n",
      "findFeature gubun :  SIFT\n",
      "findFeature gubun :  SIFT\n",
      "sti_gubun RANSAC\n",
      "mathcing_gubun\n"
     ]
    }
   ],
   "source": [
    "good_match = \"good_match\"\n",
    "my_ransac_img, my_ransac_H = my_ransac(SIFT,None)\n",
    "cv2.imshow(\"my_ransac_SIFT_img\",my_ransac_img)\n",
    "cv2.imwrite('my_ransac_SIFT_img.jpg',my_ransac_img)\n",
    "cv2.waitKey(0)\n",
    "cv2.destroyAllWindows()\n",
    "matchimg_st = stitiching(img1,img2,my_ransac_H)\n",
    "cv2.imshow(\"my_ransac_img_SIFT_st\",matchimg_st)\n",
    "cv2.imwrite(\"my_ransac_img_SIFT_st.jpg\",matchimg_st)\n",
    "cv2.waitKey(0)\n",
    "cv2.destroyAllWindows()\n",
    "my_ransac_img, my_ransac_H = my_ransac(SIFT,good_match)\n",
    "cv2.imshow(\"my_ransac_SIFT_good_match_img\",my_ransac_img)\n",
    "cv2.imwrite('my_ransac_SIFT_good_match_img.jpg',my_ransac_img)\n",
    "cv2.waitKey(0)\n",
    "cv2.destroyAllWindows()\n",
    "matchimg_st = stitiching(img1,img2,my_ransac_H)\n",
    "cv2.imshow(\"my_ransac_img_SIFT_good_match_st\",matchimg_st)\n",
    "cv2.imwrite(\"my_ransac_img_SIFT_good_match_st.jpg\",matchimg_st)\n",
    "cv2.waitKey(0)\n",
    "cv2.destroyAllWindows()"
   ]
  },
  {
   "cell_type": "code",
   "execution_count": 40,
   "metadata": {},
   "outputs": [
    {
     "name": "stdout",
     "output_type": "stream",
     "text": [
      "findFeature gubun :  BRIEF\n",
      "findFeature gubun :  BRIEF\n",
      "sti_gubun RANSAC\n",
      "findFeature gubun :  BRIEF\n",
      "findFeature gubun :  BRIEF\n",
      "sti_gubun RANSAC\n",
      "mathcing_gubun\n"
     ]
    }
   ],
   "source": [
    "my_ransac_img, my_ransac_H = my_ransac(BRIEF,None)\n",
    "cv2.imshow(\"my_ransac_BRIEF_img\",my_ransac_img)\n",
    "cv2.imwrite('my_ransac_BRIEF_img.jpg',my_ransac_img)\n",
    "cv2.waitKey(0)\n",
    "cv2.destroyAllWindows()\n",
    "matchimg_st = stitiching(img1,img2,my_ransac_H)\n",
    "cv2.imshow(\"my_ransac_img_BRIEF_st\",matchimg_st)\n",
    "cv2.imwrite(\"my_ransac_img_BRIEF_st.jpg\",matchimg_st)\n",
    "cv2.waitKey(0)\n",
    "cv2.destroyAllWindows()\n",
    "my_ransac_img, my_ransac_H = my_ransac(BRIEF,good_match)\n",
    "cv2.imshow(\"my_ransac_BRIEF_good_match_img\",my_ransac_img)\n",
    "cv2.imwrite('my_ransac_BRIEF_good_match_img.jpg',my_ransac_img)\n",
    "cv2.waitKey(0)\n",
    "cv2.destroyAllWindows()\n",
    "matchimg_st = stitiching(img1,img2,my_ransac_H)\n",
    "cv2.imshow(\"my_ransac_img_BRIEF_good_match_st\",matchimg_st)\n",
    "cv2.imwrite(\"my_ransac_img_BRIEF_good_match_st.jpg\",matchimg_st)\n",
    "cv2.waitKey(0)\n",
    "cv2.destroyAllWindows()"
   ]
  },
  {
   "cell_type": "code",
   "execution_count": 41,
   "metadata": {},
   "outputs": [
    {
     "name": "stdout",
     "output_type": "stream",
     "text": [
      "findFeature gubun :  ORB\n",
      "findFeature gubun :  ORB\n",
      "sti_gubun RANSAC\n",
      "findFeature gubun :  ORB\n",
      "findFeature gubun :  ORB\n",
      "sti_gubun RANSAC\n",
      "mathcing_gubun\n"
     ]
    }
   ],
   "source": [
    "my_ransac_img, my_ransac_H = my_ransac(ORB,None)\n",
    "cv2.imshow(\"my_ransac_ORB_img\",my_ransac_img)\n",
    "cv2.imwrite('my_ransac_ORB_img.jpg',my_ransac_img)\n",
    "cv2.waitKey(0)\n",
    "cv2.destroyAllWindows()\n",
    "matchimg_st = stitiching(img1,img2,my_ransac_H)\n",
    "cv2.imshow(\"my_ransac_img_ORB_st\",matchimg_st)\n",
    "cv2.imwrite(\"my_ransac_img_ORB_st.jpg\",matchimg_st)\n",
    "cv2.waitKey(0)\n",
    "cv2.destroyAllWindows()\n",
    "my_ransac_img, my_ransac_H = my_ransac(ORB,good_match)\n",
    "cv2.imshow(\"my_ransac_ORB_good_match_img\",my_ransac_img)\n",
    "cv2.imwrite('my_ransac_ORB_good_match_img.jpg',my_ransac_img)\n",
    "cv2.waitKey(0)\n",
    "cv2.destroyAllWindows()\n",
    "matchimg_st = stitiching(img1,img2,my_ransac_H)\n",
    "cv2.imshow(\"my_ransac_img_ORB_good_match_st\",matchimg_st)\n",
    "cv2.imwrite(\"my_ransac_img_ORB_good_match_st.jpg\",matchimg_st)\n",
    "cv2.waitKey(0)\n",
    "cv2.destroyAllWindows()"
   ]
  },
  {
   "cell_type": "code",
   "execution_count": null,
   "metadata": {},
   "outputs": [],
   "source": []
  }
 ],
 "metadata": {
  "kernelspec": {
   "display_name": "Python 3",
   "language": "python",
   "name": "python3"
  },
  "language_info": {
   "codemirror_mode": {
    "name": "ipython",
    "version": 3
   },
   "file_extension": ".py",
   "mimetype": "text/x-python",
   "name": "python",
   "nbconvert_exporter": "python",
   "pygments_lexer": "ipython3",
   "version": "3.8.5"
  }
 },
 "nbformat": 4,
 "nbformat_minor": 4
}
